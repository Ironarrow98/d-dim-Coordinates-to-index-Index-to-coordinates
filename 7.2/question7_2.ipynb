{
 "cells": [
  {
   "cell_type": "code",
   "execution_count": 2,
   "metadata": {
    "id": "G2bTwPKEis87"
   },
   "outputs": [],
   "source": [
    "def find_l(L, i):\n",
    "  if i == 1:\n",
    "    return 1\n",
    "  else:\n",
    "    l = 1\n",
    "    for j in range(1, i):\n",
    "      l *= L[j - 1]\n",
    "    return l\n",
    "\n",
    "def find_sum(L, j, x):\n",
    "  d = len(L)\n",
    "  s = 0\n",
    "  for k in range(j + 1, d + 1):\n",
    "    s += (find_l(L, k) * x[k - 1])\n",
    "  return s\n",
    "\n",
    "def find_cord(i, L):\n",
    "  d = len(L)\n",
    "  xd = i // find_l(L, d)\n",
    "  xd_1 = (i - find_l(L, d) * xd) // find_l(L, d - 1)\n",
    "  cord = [0] * d\n",
    "  cord[d - 1] = xd\n",
    "  cord[d - 2] = xd_1\n",
    "  j = d - 2\n",
    "  while j > 1:\n",
    "    xj = (i - find_sum(L, j, cord)) // find_l(L, j)\n",
    "    cord[j - 1] = xj\n",
    "    j -= 1\n",
    "  x1 = i - find_sum(L, 1, cord)\n",
    "  cord[0] = x1\n",
    "  return cord\n",
    "\n",
    "def find_index(cord, L):\n",
    "  return find_sum(L, 0, cord)\n"
   ]
  },
  {
   "cell_type": "code",
   "execution_count": 3,
   "metadata": {
    "id": "8MfrY8g4Dlkc"
   },
   "outputs": [],
   "source": [
    "import pandas as pd\n",
    "import numpy as np\n",
    "\n",
    "L = [4, 8, 5, 9, 6, 7]\n",
    "cords = pd.read_csv('input_data/input_coordinates_7_2.txt', sep=\"\\t\").values\n",
    "indexes = pd.read_csv('input_data/input_index_7_2.txt', sep=\"\\t\").values\n",
    "\n",
    "output_indexes = []\n",
    "for cord in cords:\n",
    "  output_indexes.append(find_index(cord, L))\n",
    "\n",
    "output_cords = []\n",
    "for i in indexes:\n",
    "  output_cords.append(find_cord(int(i), L))\n",
    "\n",
    "df1 = pd.DataFrame({'index':output_indexes})\n",
    "df1.to_csv('output_data/output_index_7_2.txt', index = None)\n",
    "\n",
    "df2 = pd.DataFrame(output_cords)\n",
    "header = []\n",
    "for i in range(len(L)):\n",
    "  header.append('x' + str(i + 1))\n",
    "df2.to_csv('output_data/output_coordinates_7_2.txt', header = header, index = None, sep = \"\\t\")"
   ]
  },
  {
   "cell_type": "code",
   "execution_count": null,
   "metadata": {},
   "outputs": [],
   "source": []
  }
 ],
 "metadata": {
  "colab": {
   "name": "question7_2.ipynb",
   "provenance": []
  },
  "kernelspec": {
   "display_name": "Python 3",
   "language": "python",
   "name": "python3"
  },
  "language_info": {
   "codemirror_mode": {
    "name": "ipython",
    "version": 3
   },
   "file_extension": ".py",
   "mimetype": "text/x-python",
   "name": "python",
   "nbconvert_exporter": "python",
   "pygments_lexer": "ipython3",
   "version": "3.8.3"
  }
 },
 "nbformat": 4,
 "nbformat_minor": 1
}
